{
 "cells": [
  {
   "cell_type": "code",
   "execution_count": 1,
   "id": "e34f6c0c",
   "metadata": {},
   "outputs": [],
   "source": [
    "import numba as nb\n",
    "import numpy as np\n",
    "import pandas as pd\n",
    "import matplotlib.pyplot as plt\n",
    "import math"
   ]
  },
  {
   "cell_type": "code",
   "execution_count": 2,
   "id": "41b9e2b5",
   "metadata": {},
   "outputs": [],
   "source": [
    "N = 2 #10 lub 2\n",
    "L = 100 #nm\n",
    "mass = 0.067 #au\n",
    "omega = 10.0 #meV\n",
    "au_energy = 27211.6\n",
    "ab = 0.05292 #nm to Bohr radius\n",
    "\n",
    "n_els = (2*N)**2 #liczba elementów\n",
    "n_glob = (2*N+1)**2 #liczba węzłów\n",
    "\n",
    "x_nlg = np.concatenate([np.linspace(-L/2,L/2,2*N+1) for i in range(2*N+1)])\n",
    "y_nlg = np.repeat(np.linspace(-L/2,L/2,2*N+1),2*N+1)\n",
    "nlg = np.empty((n_els,4), dtype = int) #dla każdego elementu 4 węzły\n",
    "#mesh = np.empty((2*N+1, 2*N+1))     #[i, j] = [y, x]\n",
    "for k in range(n_els): #pętla po elementach\n",
    "    for i in range(2): \n",
    "        nlg[k,i] = k + i + k//(2*N) #dla wezla 1 i 2\n",
    "        nlg[k,i+2] = nlg[k,i] + 2*N+1 #dla wezla 3 i 4"
   ]
  },
  {
   "cell_type": "code",
   "execution_count": 3,
   "id": "28e6ccc7",
   "metadata": {},
   "outputs": [
    {
     "data": {
      "text/html": [
       "<div>\n",
       "<style scoped>\n",
       "    .dataframe tbody tr th:only-of-type {\n",
       "        vertical-align: middle;\n",
       "    }\n",
       "\n",
       "    .dataframe tbody tr th {\n",
       "        vertical-align: top;\n",
       "    }\n",
       "\n",
       "    .dataframe thead th {\n",
       "        text-align: right;\n",
       "    }\n",
       "</style>\n",
       "<table border=\"1\" class=\"dataframe\">\n",
       "  <thead>\n",
       "    <tr style=\"text-align: right;\">\n",
       "      <th></th>\n",
       "      <th>Nr elementu</th>\n",
       "      <th>Nr lokalny węzła</th>\n",
       "      <th>Nr globalny węzła</th>\n",
       "      <th>x węzła</th>\n",
       "      <th>y węzła</th>\n",
       "    </tr>\n",
       "  </thead>\n",
       "  <tbody>\n",
       "    <tr>\n",
       "      <th>0</th>\n",
       "      <td>0</td>\n",
       "      <td>0</td>\n",
       "      <td>0</td>\n",
       "      <td>-50.0</td>\n",
       "      <td>-50.0</td>\n",
       "    </tr>\n",
       "    <tr>\n",
       "      <th>1</th>\n",
       "      <td>0</td>\n",
       "      <td>1</td>\n",
       "      <td>1</td>\n",
       "      <td>-25.0</td>\n",
       "      <td>-50.0</td>\n",
       "    </tr>\n",
       "    <tr>\n",
       "      <th>2</th>\n",
       "      <td>0</td>\n",
       "      <td>2</td>\n",
       "      <td>5</td>\n",
       "      <td>-50.0</td>\n",
       "      <td>-25.0</td>\n",
       "    </tr>\n",
       "    <tr>\n",
       "      <th>3</th>\n",
       "      <td>0</td>\n",
       "      <td>3</td>\n",
       "      <td>6</td>\n",
       "      <td>-25.0</td>\n",
       "      <td>-25.0</td>\n",
       "    </tr>\n",
       "    <tr>\n",
       "      <th>4</th>\n",
       "      <td>1</td>\n",
       "      <td>0</td>\n",
       "      <td>1</td>\n",
       "      <td>-25.0</td>\n",
       "      <td>-50.0</td>\n",
       "    </tr>\n",
       "    <tr>\n",
       "      <th>...</th>\n",
       "      <td>...</td>\n",
       "      <td>...</td>\n",
       "      <td>...</td>\n",
       "      <td>...</td>\n",
       "      <td>...</td>\n",
       "    </tr>\n",
       "    <tr>\n",
       "      <th>59</th>\n",
       "      <td>14</td>\n",
       "      <td>3</td>\n",
       "      <td>23</td>\n",
       "      <td>25.0</td>\n",
       "      <td>50.0</td>\n",
       "    </tr>\n",
       "    <tr>\n",
       "      <th>60</th>\n",
       "      <td>15</td>\n",
       "      <td>0</td>\n",
       "      <td>18</td>\n",
       "      <td>25.0</td>\n",
       "      <td>25.0</td>\n",
       "    </tr>\n",
       "    <tr>\n",
       "      <th>61</th>\n",
       "      <td>15</td>\n",
       "      <td>1</td>\n",
       "      <td>19</td>\n",
       "      <td>50.0</td>\n",
       "      <td>25.0</td>\n",
       "    </tr>\n",
       "    <tr>\n",
       "      <th>62</th>\n",
       "      <td>15</td>\n",
       "      <td>2</td>\n",
       "      <td>23</td>\n",
       "      <td>25.0</td>\n",
       "      <td>50.0</td>\n",
       "    </tr>\n",
       "    <tr>\n",
       "      <th>63</th>\n",
       "      <td>15</td>\n",
       "      <td>3</td>\n",
       "      <td>24</td>\n",
       "      <td>50.0</td>\n",
       "      <td>50.0</td>\n",
       "    </tr>\n",
       "  </tbody>\n",
       "</table>\n",
       "<p>64 rows × 5 columns</p>\n",
       "</div>"
      ],
      "text/plain": [
       "   Nr elementu Nr lokalny węzła Nr globalny węzła x węzła y węzła\n",
       "0            0                0                 0   -50.0   -50.0\n",
       "1            0                1                 1   -25.0   -50.0\n",
       "2            0                2                 5   -50.0   -25.0\n",
       "3            0                3                 6   -25.0   -25.0\n",
       "4            1                0                 1   -25.0   -50.0\n",
       "..         ...              ...               ...     ...     ...\n",
       "59          14                3                23    25.0    50.0\n",
       "60          15                0                18    25.0    25.0\n",
       "61          15                1                19    50.0    25.0\n",
       "62          15                2                23    25.0    50.0\n",
       "63          15                3                24    50.0    50.0\n",
       "\n",
       "[64 rows x 5 columns]"
      ]
     },
     "execution_count": 3,
     "metadata": {},
     "output_type": "execute_result"
    }
   ],
   "source": [
    "df =pd.DataFrame(index = range(4*n_els),columns = ['Nr elementu', 'Nr lokalny węzła', 'Nr globalny węzła', 'x węzła', 'y węzła'])\n",
    "for k in range(n_els):\n",
    "    for i in range(4):\n",
    "        df.iloc[4*k+i] = [k,i,nlg[k,i],x_nlg[nlg[k,i]],y_nlg[nlg[k,i]]]\n",
    "df"
   ]
  },
  {
   "cell_type": "code",
   "execution_count": 4,
   "id": "f30db7b4",
   "metadata": {},
   "outputs": [],
   "source": [
    "def f(i,ksi):\n",
    "    if i == 0:\n",
    "        return (1-ksi)/2;\n",
    "    elif i == 1:\n",
    "        return (1+ksi)/2;\n",
    "    else:\n",
    "        print('[ERROR] Unrecognized function')\n",
    "        exit(-1)\n",
    "def g(i,ksi_vec):\n",
    "    if i == 0:\n",
    "        return f(0,ksi_vec[0])*f(0,ksi_vec[1])\n",
    "    elif i == 1:\n",
    "        return f(1,ksi_vec[0])*f(0,ksi_vec[1]) \n",
    "    elif i == 2:\n",
    "        return f(0,ksi_vec[0])*f(1,ksi_vec[1])\n",
    "    elif i == 3:\n",
    "        return f(1,ksi_vec[0])*f(1,ksi_vec[1])\n",
    "    else:\n",
    "        print('[ERROR] Unrecognized function')\n",
    "        exit(-1)\n",
    "        \n",
    "Psi_nlg = np.empty(n_glob)\n",
    "for n in range(n_glob): Psi_nlg[n] = np.exp(-mass*omega/au_energy/2.*((x_nlg[n]/ab)**2+(y_nlg[n]/ab)**2))\n",
    "ksi_step = 0.1\n",
    "ksi0_tab = np.arange(-1,1 + ksi_step,ksi_step)\n",
    "ksi1_tab = np.arange(-1,1 + ksi_step,ksi_step)\n",
    "\n",
    "\n",
    "x = np.empty((n_els, np.size(ksi0_tab)))  \n",
    "y = np.empty((n_els, np.size(ksi1_tab)))  \n",
    "Psi = np.zeros((n_els, np.size(ksi1_tab), np.size(ksi0_tab)))   \n",
    "\n",
    "for k in range(n_els):\n",
    "    for m in range (np.size(ksi0_tab)):\n",
    "        for n in range(np.size(ksi1_tab)):\n",
    "            x[k,m] = x_nlg[nlg[k,0]]/2*(1-ksi0_tab[m]) + x_nlg[nlg[k,1]]/2*(1+ksi0_tab[m])\n",
    "            y[k,n] = y_nlg[nlg[k,0]]/2*(1-ksi1_tab[n]) + y_nlg[nlg[k,2]]/2*(1+ksi1_tab[n])\n",
    "            for i in range(4):\n",
    "                Psi[k,n,m] += Psi_nlg[nlg[k,i]]*g(i,[ksi0_tab[m], ksi1_tab[n]])  \n",
    "           \n",
    "for i in range(2*N):\n",
    "    Psi_new = np.concatenate(Psi[i*2*N:(1+i)*2*N], axis = 1)\n",
    "    if i == 0:\n",
    "        Psi_r = Psi_new\n",
    "    else:\n",
    "        Psi_r = np.concatenate((Psi_r, Psi_new), axis = 0)\n",
    "        \n",
    "Psi_r = np.delete(Psi_r, [np.size(ksi0_tab)*i for i in range(1,2*N)], axis = 1)\n",
    "Psi_r = np.delete(Psi_r, [np.size(ksi1_tab)*i for i in range(1,2*N)], axis = 0)"
   ]
  },
  {
   "cell_type": "code",
   "execution_count": 5,
   "id": "fbef568d",
   "metadata": {
    "scrolled": true
   },
   "outputs": [
    {
     "data": {
      "text/plain": [
       "<matplotlib.colorbar.Colorbar at 0x2b6010b6260>"
      ]
     },
     "execution_count": 5,
     "metadata": {},
     "output_type": "execute_result"
    },
    {
     "data": {
      "image/png": "[encoded data removed]",
      "text/plain": [
       "<Figure size 640x480 with 2 Axes>"
      ]
     },
     "metadata": {},
     "output_type": "display_data"
    }
   ],
   "source": [
    "plt.imshow(Psi_r, origin='lower', cmap='gnuplot', extent=[-50,50,-50,50], interpolation=None)\n",
    "plt.colorbar()"
   ]
  },
  {
   "cell_type": "markdown",
   "id": "68f81ad1",
   "metadata": {},
   "source": [
    "# Zadanie 3\n",
    " Policzyć i wypisać elementy lokalnej macierzy przekrywania"
   ]
  },
  {
   "cell_type": "code",
   "execution_count": 6,
   "id": "69c85ded",
   "metadata": {},
   "outputs": [
    {
     "name": "stdout",
     "output_type": "stream",
     "text": [
      "s:\n",
      " [[99187.70191839 49593.85095919 49593.85095919 24796.9254796 ]\n",
      " [49593.85095919 99187.70191839 24796.9254796  49593.85095919]\n",
      " [49593.85095919 24796.9254796  99187.70191839 49593.85095919]\n",
      " [24796.9254796  49593.85095919 49593.85095919 99187.70191839]]\n",
      "s do porownania ze skryptem:\n",
      "[[4. 2. 2. 1.]\n",
      " [2. 4. 1. 2.]\n",
      " [2. 1. 4. 2.]\n",
      " [1. 2. 2. 4.]]\n"
     ]
    }
   ],
   "source": [
    "#trójpunktowa kwadratura gaussa\n",
    "L=100/ab #w jednostkach atomowych\n",
    "N=2\n",
    "a=L/N #w jednostkach atomowych\n",
    "p = np.array([-math.sqrt(3/5),0,math.sqrt(3/5)])\n",
    "w = np.array([5/9,8/9,5/9])\n",
    "\n",
    "#lokalna macierz przekrywania\n",
    "s = np.zeros((4,4))\n",
    "for i in range(4):\n",
    "    for j in range(4):\n",
    "        for l in range(3):\n",
    "            for n in range(3):\n",
    "                s[i,j] += (a**2)/4*(w[l]*w[n]*g(j,[p[l], p[n]])*g(i,[p[l], p[n]]))\n",
    "print('s:\\n',s)   \n",
    "print('s do porownania ze skryptem:')\n",
    "s2=s/((a**2)/4)*9\n",
    "print(s2)"
   ]
  },
  {
   "cell_type": "markdown",
   "id": "c592f43f",
   "metadata": {},
   "source": [
    "# Zadanie 4\n",
    "Policzyć i wypisać elementy lokalnej macierzy przekrywania"
   ]
  },
  {
   "cell_type": "code",
   "execution_count": 9,
   "id": "7774f4c8",
   "metadata": {},
   "outputs": [
    {
     "name": "stdout",
     "output_type": "stream",
     "text": [
      "t:\n",
      " [[ 4.97512438 -1.24378109 -1.24378109 -2.48756219]\n",
      " [-1.24378109  4.97512438 -2.48756219 -1.24378109]\n",
      " [-1.24378109 -2.48756219  4.97512438 -1.24378109]\n",
      " [-2.48756219 -1.24378109 -1.24378109  4.97512438]]\n",
      "t do porownania ze skryptem:\n",
      " [[ 4. -1. -1. -2.]\n",
      " [-1.  4. -2. -1.]\n",
      " [-1. -2.  4. -1.]\n",
      " [-2. -1. -1.  4.]]\n"
     ]
    }
   ],
   "source": [
    "delta=0.01\n",
    "def der1(ii,pl,pn):\n",
    "    return((g(ii,[pl,pn+delta])-g(ii,[pl,pn-delta]))/(2*delta))\n",
    "def der2(ii,pl,pn):\n",
    "    return((g(ii,[pl+delta,pn])-g(ii,[pl-delta,pn]))/(2*delta))\n",
    "\n",
    "t = np.zeros((4,4))\n",
    "for i in range(4):\n",
    "    for j in range(4):\n",
    "        for l in range(3):\n",
    "            for n in range(3):\n",
    "                t[i,j] += (1/(2*mass))*(w[l]*w[n]*(der1(j,p[l],p[n])\\\n",
    "                                      *der1(i,p[l],p[n])+der2(j,p[l],p[n])*der2(i,p[l],p[n])))\n",
    "print('t:\\n',t) \n",
    "t2=t*6*2*mass\n",
    "print('t do porownania ze skryptem:\\n',t2)       "
   ]
  },
  {
   "cell_type": "code",
   "execution_count": 76,
   "id": "f5d03446",
   "metadata": {},
   "outputs": [
    {
     "name": "stdout",
     "output_type": "stream",
     "text": [
      "0.0 0.0 5.494916162297354\n",
      "25.0 0.0 19.232206568040752\n",
      "0.0 25.0 19.23220656804075\n",
      "25.0 25.0 32.969496973784146\n"
     ]
    }
   ],
   "source": [
    "\n",
    "#lokalne macierze przekrywania dla energii potencjalnej są różne dla każdego elementu\n",
    "v = np.zeros((n_els,4,4))\n",
    "omega=10/au_energy\n",
    "\n",
    "for k in range(n_els):\n",
    "    for i in range(4):\n",
    "        for j in range(4):\n",
    "            calka=0\n",
    "            for l in range(3):\n",
    "                for n in range(3):\n",
    "                    xc=(x_nlg[nlg[k,0]]/ab*(1-p[n])+x_nlg[nlg[k,1]]/ab*(1+p[n]))/2\n",
    "                    yc=(y_nlg[nlg[k,0]]/ab*(1-p[l])+y_nlg[nlg[k,2]]/ab*(1+p[l]))/2\n",
    "                    calka=calka+(((xc)**2+(yc)**2)*g(j,[p[l], p[n]])*g(i,[p[l], p[n]]))*w[l]*w[n]\n",
    "            v[k,i,j]=calka*((a**2)/4)*mass*(omega**2)/2\n",
    "\n",
    "#sprawdzenie dla wezla 11            \n",
    "k=10\n",
    "for i in range(4):\n",
    "    print(x_nlg[nlg[k,i]],y_nlg[nlg[k,i]],(v[k,i,i]/s[i,i])*au_energy) #wspolrzedne wezla"
   ]
  }
 ],
 "metadata": {
  "kernelspec": {
   "display_name": "Python [conda env:mofit]",
   "language": "python",
   "name": "conda-env-mofit-py"
  },
  "language_info": {
   "codemirror_mode": {
    "name": "ipython",
    "version": 3
   },
   "file_extension": ".py",
   "mimetype": "text/x-python",
   "name": "python",
   "nbconvert_exporter": "python",
   "pygments_lexer": "ipython3",
   "version": "3.10.4"
  },
  "toc": {
   "base_numbering": 1,
   "nav_menu": {},
   "number_sections": true,
   "sideBar": true,
   "skip_h1_title": false,
   "title_cell": "Table of Contents",
   "title_sidebar": "Contents",
   "toc_cell": false,
   "toc_position": {},
   "toc_section_display": true,
   "toc_window_display": false
  }
 },
 "nbformat": 4,
 "nbformat_minor": 5
}
